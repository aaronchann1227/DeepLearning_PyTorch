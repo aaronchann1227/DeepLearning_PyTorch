{
 "cells": [
  {
   "cell_type": "markdown",
   "id": "ddc11601-ad37-4fe4-8bc1-691743421676",
   "metadata": {},
   "source": [
    "### Linear Feed Forward Network"
   ]
  },
  {
   "cell_type": "code",
   "execution_count": 1,
   "id": "3795db73-8ace-446f-80b1-7ae03ed4e8a7",
   "metadata": {},
   "outputs": [
    {
     "data": {
      "text/plain": [
       "<torch._C.Generator at 0x7ffdd8d08030>"
      ]
     },
     "execution_count": 1,
     "metadata": {},
     "output_type": "execute_result"
    }
   ],
   "source": [
    "import os\n",
    "import numpy as np\n",
    "import pandas as pd\n",
    "import time\n",
    "import random\n",
    "from sklearn.impute import SimpleImputer\n",
    "import matplotlib.pyplot as plt\n",
    "\n",
    "import torch\n",
    "import torch.nn as nn\n",
    "import torch.nn.functional as F\n",
    "import torch.optim as optim\n",
    "from torch.autograd import Variable\n",
    "import torch.utils.data as Data\n",
    "import torchvision\n",
    "import time\n",
    "from torch.optim.lr_scheduler import StepLR\n",
    "from torchvision import datasets, transforms\n",
    "from torch.autograd import Variable\n",
    "from torchvision.utils import save_image\n",
    "from torch.utils.data import TensorDataset, DataLoader\n",
    "torch.manual_seed(1)"
   ]
  },
  {
   "cell_type": "code",
   "execution_count": 2,
   "id": "417af655-91ab-45cc-85ac-cf942c1eae28",
   "metadata": {},
   "outputs": [
    {
     "name": "stdout",
     "output_type": "stream",
     "text": [
      "chech gpu status\n",
      "CUDA available? True\n"
     ]
    }
   ],
   "source": [
    "print(\"chech gpu status\")\n",
    "print(\"CUDA available?\", torch.cuda.is_available())\n",
    "use_cuda = torch.cuda.is_available()\n",
    "device = torch.device('cuda' if use_cuda else 'cpu')"
   ]
  },
  {
   "cell_type": "code",
   "execution_count": 3,
   "id": "6f7b51e4-e6f4-455c-ae73-e3cafab8644f",
   "metadata": {},
   "outputs": [
    {
     "data": {
      "text/plain": [
       "<torch._C.Generator at 0x7ffdd8d08030>"
      ]
     },
     "execution_count": 3,
     "metadata": {},
     "output_type": "execute_result"
    }
   ],
   "source": [
    "import random\n",
    "random.seed(10)\n",
    "torch.manual_seed(66)"
   ]
  },
  {
   "cell_type": "code",
   "execution_count": 4,
   "id": "62c82da1-4262-4cfd-8bb3-5a344d6617fa",
   "metadata": {},
   "outputs": [],
   "source": [
    "train = pd.read_csv('train.csv')\n",
    "test = pd.read_csv('test.csv')"
   ]
  },
  {
   "cell_type": "code",
   "execution_count": 5,
   "id": "792a6560-6c97-410a-977f-2ea39067410d",
   "metadata": {},
   "outputs": [],
   "source": [
    "test = test.loc[test['target'].notnull(), ]"
   ]
  },
  {
   "cell_type": "code",
   "execution_count": 6,
   "id": "615ac571-1485-4199-b18f-42331d88237b",
   "metadata": {},
   "outputs": [],
   "source": [
    "X_train = train.drop(columns=['target'])\n",
    "y_train = train['target']\n",
    "\n",
    "X_train = X_train.to_numpy()\n",
    "X_train = X_train.astype(np.float32)\n",
    "y_train = y_train.astype(np.float32)"
   ]
  },
  {
   "cell_type": "code",
   "execution_count": 7,
   "id": "0fc7c8e2-dbbc-47dc-9ca9-1114057dc8d0",
   "metadata": {},
   "outputs": [],
   "source": [
    "X_test = test.drop(columns=['log_ratio_residual'])\n",
    "y_test = test['log_ratio_residual']\n",
    "\n",
    "X_test = X_test.to_numpy()\n",
    "X_test = X_test.astype(np.float32)\n",
    "y_test = y_test.astype(np.float32)"
   ]
  },
  {
   "cell_type": "markdown",
   "id": "82a5e33b-55de-4c02-a855-c605cc8eb790",
   "metadata": {},
   "source": [
    "#################################################################################"
   ]
  },
  {
   "cell_type": "code",
   "execution_count": 8,
   "id": "8343d61d-8c90-4ba5-8205-4533e57d85b8",
   "metadata": {},
   "outputs": [],
   "source": [
    "BATCH_SIZE = 1000\n",
    "tensor_x_train = torch.Tensor(X_train) # transform to torch tensor\n",
    "tensor_y_train = torch.Tensor(y_train)\n",
    "# Create a dataloader\n",
    "my_dataset_train = TensorDataset(tensor_x_train,tensor_y_train) \n",
    "train_loader = DataLoader(my_dataset_train,batch_size = BATCH_SIZE,shuffle = True)\n",
    "\n",
    "tensor_x_test = torch.Tensor(X_test) # transform to torch tensor\n",
    "tensor_y_test = torch.Tensor(y_test)\n",
    "my_dataset_test = TensorDataset(tensor_x_test,tensor_y_test) \n",
    "test_loader = DataLoader(my_dataset_test,batch_size = BATCH_SIZE,shuffle = True)"
   ]
  },
  {
   "cell_type": "code",
   "execution_count": 13,
   "id": "1323a639-0907-462d-bd68-ba6343dac591",
   "metadata": {},
   "outputs": [],
   "source": [
    "inputSize = 332\n",
    "hiddenSize = 128\n",
    "outputSize = 1"
   ]
  },
  {
   "cell_type": "code",
   "execution_count": 14,
   "id": "eea5d503-9545-4e73-abe3-fbfbd009069a",
   "metadata": {},
   "outputs": [],
   "source": [
    "class feedforward(torch.nn.Module):\n",
    "    def __init__(self, inputSize, hiddenSize, outputSize): \n",
    "        super(feedforward, self).__init__() \n",
    "        self.linear1 = torch.nn.Linear(inputSize,hiddenSize)\n",
    "        self.relu = torch.nn.ReLU()\n",
    "        self.linear2 = torch.nn.Linear(hiddenSize, outputSize)\n",
    "\n",
    "        if torch.cuda.is_available():\n",
    "             self=self.cuda()\n",
    "\n",
    "    def forward(self, x):\n",
    "        out = self.linear1(x)\n",
    "        out = self.relu(out)\n",
    "        out = self.linear2(out)\n",
    "        return out"
   ]
  },
  {
   "cell_type": "code",
   "execution_count": 15,
   "id": "1f09577c-8090-41cc-868a-7a8bccd28f0c",
   "metadata": {},
   "outputs": [],
   "source": [
    "# train step\n",
    "def train(model, device, train_loader, optimizer, epoch):\n",
    "    model.train()\n",
    "    total_batch_loss = 0\n",
    "    count= 0\n",
    "    for batch_idx, (data, target) in enumerate(train_loader):\n",
    "        data, target = data.to(device), target.to(torch.float32).to(device)\n",
    "        #forward\n",
    "        output = model(data)\n",
    "        loss = loss_func(output, target.reshape(-1, 1))\n",
    "        \n",
    "        #backward\n",
    "        optimizer.zero_grad()\n",
    "        data.requires_grad = True\n",
    "        loss.backward()\n",
    "        optimizer.step()\n",
    "        \n",
    "        total_batch_loss += loss\n",
    "        count += 1\n",
    "        if batch_idx % 50 == 0:\n",
    "            print(f'Train Epoch: {epoch}',\n",
    "                f' [{batch_idx * len(data)}/{len(train_loader.dataset)}',\n",
    "                f'({100. * batch_idx / len(train_loader):.0f}%)]',\n",
    "                f'\\tLoss: {loss.item():.6f}')\n",
    "    train_losses.append(total_batch_loss.item()/count)\n",
    "    "
   ]
  },
  {
   "cell_type": "code",
   "execution_count": 16,
   "id": "a93f75b2-a141-4e4d-af21-0588ee2b9cc1",
   "metadata": {},
   "outputs": [],
   "source": [
    "# test step\n",
    "def test(model, device, test_loader):\n",
    "    model.eval()\n",
    "    test_loss = 0\n",
    "    count = 0\n",
    "    with torch.no_grad():\n",
    "        for data, target in test_loader:   \n",
    "            data, target = data.to(device), target.to(torch.float32).to(device)\n",
    "            \n",
    "            output = model(data)\n",
    "            test_loss += loss_func(output, target.reshape(-1, 1))\n",
    "            count += 1\n",
    "            \n",
    "        test_loss /= count\n",
    "        test_losses.append(test_loss)\n",
    "        print(f'\\nTest set: Average loss: {test_loss:.4f}')"
   ]
  },
  {
   "cell_type": "code",
   "execution_count": 17,
   "id": "413b0300-0cc0-49b3-9320-b3d9a56fb51c",
   "metadata": {},
   "outputs": [],
   "source": [
    "train_losses = []\n",
    "test_losses = []\n",
    "\n",
    "model = feedforward(inputSize, hiddenSize, outputSize)\n",
    "optimizer = torch.optim.Adam(model.parameters(), lr = 0.01)\n",
    "loss_func = nn.MSELoss()\n",
    "scheduler = StepLR(optimizer, step_size = 2, gamma = 0.6)"
   ]
  },
  {
   "cell_type": "code",
   "execution_count": 18,
   "id": "82710415-6ec5-43be-8a89-4caaa7c20699",
   "metadata": {
    "tags": []
   },
   "outputs": [
    {
     "name": "stdout",
     "output_type": "stream",
     "text": [
      "Train Epoch: 1  [0/396710 (0%)] \tLoss: 7089154560.000000\n",
      "Train Epoch: 1  [50000/396710 (13%)] \tLoss: 250261472.000000\n",
      "Train Epoch: 1  [100000/396710 (25%)] \tLoss: 167336720.000000\n",
      "Train Epoch: 1  [150000/396710 (38%)] \tLoss: 700403.187500\n",
      "Train Epoch: 1  [200000/396710 (50%)] \tLoss: 192086.562500\n",
      "Train Epoch: 1  [250000/396710 (63%)] \tLoss: 212425.484375\n",
      "Train Epoch: 1  [300000/396710 (76%)] \tLoss: 81079.390625\n",
      "Train Epoch: 1  [350000/396710 (88%)] \tLoss: 1253527.500000\n",
      "\n",
      "Test set: Average loss: 125216960.0000\n",
      "Train Epoch: 2  [0/396710 (0%)] \tLoss: 188757.234375\n",
      "Train Epoch: 2  [50000/396710 (13%)] \tLoss: 241864.734375\n",
      "Train Epoch: 2  [100000/396710 (25%)] \tLoss: 4528.701660\n",
      "Train Epoch: 2  [150000/396710 (38%)] \tLoss: 60284.210938\n",
      "Train Epoch: 2  [200000/396710 (50%)] \tLoss: 2669.699219\n",
      "Train Epoch: 2  [250000/396710 (63%)] \tLoss: 6181.346191\n",
      "Train Epoch: 2  [300000/396710 (76%)] \tLoss: 2324.849121\n",
      "Train Epoch: 2  [350000/396710 (88%)] \tLoss: 7416.229492\n",
      "\n",
      "Test set: Average loss: 18926.2305\n",
      "Train Epoch: 3  [0/396710 (0%)] \tLoss: 1401.645508\n",
      "Train Epoch: 3  [50000/396710 (13%)] \tLoss: 98243.375000\n",
      "Train Epoch: 3  [100000/396710 (25%)] \tLoss: 1001.898682\n",
      "Train Epoch: 3  [150000/396710 (38%)] \tLoss: 1113.191040\n",
      "Train Epoch: 3  [200000/396710 (50%)] \tLoss: 759.601929\n",
      "Train Epoch: 3  [250000/396710 (63%)] \tLoss: 1910.615845\n",
      "Train Epoch: 3  [300000/396710 (76%)] \tLoss: 1731.607056\n",
      "Train Epoch: 3  [350000/396710 (88%)] \tLoss: 1714.275024\n",
      "\n",
      "Test set: Average loss: 8499.4238\n",
      "Train Epoch: 4  [0/396710 (0%)] \tLoss: 1094.272095\n",
      "Train Epoch: 4  [50000/396710 (13%)] \tLoss: 16272.857422\n",
      "Train Epoch: 4  [100000/396710 (25%)] \tLoss: 811.236450\n",
      "Train Epoch: 4  [150000/396710 (38%)] \tLoss: 1129.787109\n",
      "Train Epoch: 4  [200000/396710 (50%)] \tLoss: 1851.553223\n",
      "Train Epoch: 4  [250000/396710 (63%)] \tLoss: 3697.443604\n",
      "Train Epoch: 4  [300000/396710 (76%)] \tLoss: 1326.803589\n",
      "Train Epoch: 4  [350000/396710 (88%)] \tLoss: 1093.150879\n",
      "\n",
      "Test set: Average loss: 2396.3044\n",
      "Train Epoch: 5  [0/396710 (0%)] \tLoss: 1334.350342\n",
      "Train Epoch: 5  [50000/396710 (13%)] \tLoss: 1073.915649\n",
      "Train Epoch: 5  [100000/396710 (25%)] \tLoss: 1122.050659\n",
      "Train Epoch: 5  [150000/396710 (38%)] \tLoss: 550.213379\n",
      "Train Epoch: 5  [200000/396710 (50%)] \tLoss: 599.280884\n",
      "Train Epoch: 5  [250000/396710 (63%)] \tLoss: 652.623535\n",
      "Train Epoch: 5  [300000/396710 (76%)] \tLoss: 1090.996338\n",
      "Train Epoch: 5  [350000/396710 (88%)] \tLoss: 1116.639404\n",
      "\n",
      "Test set: Average loss: 1790.3879\n",
      "Train Epoch: 6  [0/396710 (0%)] \tLoss: 76753216.000000\n",
      "Train Epoch: 6  [50000/396710 (13%)] \tLoss: 869.899475\n",
      "Train Epoch: 6  [100000/396710 (25%)] \tLoss: 1670.397095\n",
      "Train Epoch: 6  [150000/396710 (38%)] \tLoss: 55135044.000000\n",
      "Train Epoch: 6  [200000/396710 (50%)] \tLoss: 518.297119\n",
      "Train Epoch: 6  [250000/396710 (63%)] \tLoss: 522.960571\n",
      "Train Epoch: 6  [300000/396710 (76%)] \tLoss: 628.817200\n",
      "Train Epoch: 6  [350000/396710 (88%)] \tLoss: 1081.710938\n",
      "\n",
      "Test set: Average loss: 1274.8302\n",
      "Train Epoch: 7  [0/396710 (0%)] \tLoss: 618.189270\n",
      "Train Epoch: 7  [50000/396710 (13%)] \tLoss: 459.172882\n",
      "Train Epoch: 7  [100000/396710 (25%)] \tLoss: 921.881287\n",
      "Train Epoch: 7  [150000/396710 (38%)] \tLoss: 409.577942\n",
      "Train Epoch: 7  [200000/396710 (50%)] \tLoss: 535.756958\n",
      "Train Epoch: 7  [250000/396710 (63%)] \tLoss: 366.886078\n",
      "Train Epoch: 7  [300000/396710 (76%)] \tLoss: 1506.618164\n",
      "Train Epoch: 7  [350000/396710 (88%)] \tLoss: 812.162048\n",
      "\n",
      "Test set: Average loss: 743.8774\n",
      "Train Epoch: 8  [0/396710 (0%)] \tLoss: 800.032288\n",
      "Train Epoch: 8  [50000/396710 (13%)] \tLoss: 482.001465\n",
      "Train Epoch: 8  [100000/396710 (25%)] \tLoss: 372.341827\n",
      "Train Epoch: 8  [150000/396710 (38%)] \tLoss: 849.336914\n",
      "Train Epoch: 8  [200000/396710 (50%)] \tLoss: 671.471130\n",
      "Train Epoch: 8  [250000/396710 (63%)] \tLoss: 696.718079\n",
      "Train Epoch: 8  [300000/396710 (76%)] \tLoss: 779.268188\n",
      "Train Epoch: 8  [350000/396710 (88%)] \tLoss: 224.240387\n",
      "\n",
      "Test set: Average loss: 1220.9822\n",
      "Train Epoch: 9  [0/396710 (0%)] \tLoss: 385.072571\n",
      "Train Epoch: 9  [50000/396710 (13%)] \tLoss: 330.459564\n",
      "Train Epoch: 9  [100000/396710 (25%)] \tLoss: 604.326050\n",
      "Train Epoch: 9  [150000/396710 (38%)] \tLoss: 3819.093750\n",
      "Train Epoch: 9  [200000/396710 (50%)] \tLoss: 587.040833\n",
      "Train Epoch: 9  [250000/396710 (63%)] \tLoss: 901.545654\n",
      "Train Epoch: 9  [300000/396710 (76%)] \tLoss: 749.410522\n",
      "Train Epoch: 9  [350000/396710 (88%)] \tLoss: 576.329895\n",
      "\n",
      "Test set: Average loss: 1082.7683\n",
      "Train Epoch: 10  [0/396710 (0%)] \tLoss: 598.988220\n",
      "Train Epoch: 10  [50000/396710 (13%)] \tLoss: 280.910828\n",
      "Train Epoch: 10  [100000/396710 (25%)] \tLoss: 344.028320\n",
      "Train Epoch: 10  [150000/396710 (38%)] \tLoss: 345.520050\n",
      "Train Epoch: 10  [200000/396710 (50%)] \tLoss: 529.098511\n",
      "Train Epoch: 10  [250000/396710 (63%)] \tLoss: 775.770935\n",
      "Train Epoch: 10  [300000/396710 (76%)] \tLoss: 226.333511\n",
      "Train Epoch: 10  [350000/396710 (88%)] \tLoss: 4627.295410\n",
      "\n",
      "Test set: Average loss: 830.1069\n",
      "Train Epoch: 11  [0/396710 (0%)] \tLoss: 312.644653\n",
      "Train Epoch: 11  [50000/396710 (13%)] \tLoss: 327.916687\n",
      "Train Epoch: 11  [100000/396710 (25%)] \tLoss: 286.179352\n",
      "Train Epoch: 11  [150000/396710 (38%)] \tLoss: 266.867249\n",
      "Train Epoch: 11  [200000/396710 (50%)] \tLoss: 227.921890\n",
      "Train Epoch: 11  [250000/396710 (63%)] \tLoss: 178.437637\n",
      "Train Epoch: 11  [300000/396710 (76%)] \tLoss: 409.524261\n",
      "Train Epoch: 11  [350000/396710 (88%)] \tLoss: 579.015686\n",
      "\n",
      "Test set: Average loss: 465.7358\n",
      "Train Epoch: 12  [0/396710 (0%)] \tLoss: 2453.877441\n",
      "Train Epoch: 12  [50000/396710 (13%)] \tLoss: 326.106049\n",
      "Train Epoch: 12  [100000/396710 (25%)] \tLoss: 277.957642\n",
      "Train Epoch: 12  [150000/396710 (38%)] \tLoss: 442.219696\n",
      "Train Epoch: 12  [200000/396710 (50%)] \tLoss: 284.841644\n",
      "Train Epoch: 12  [250000/396710 (63%)] \tLoss: 165.682236\n",
      "Train Epoch: 12  [300000/396710 (76%)] \tLoss: 136.653442\n",
      "Train Epoch: 12  [350000/396710 (88%)] \tLoss: 2420.750244\n",
      "\n",
      "Test set: Average loss: 400.4847\n",
      "Train Epoch: 13  [0/396710 (0%)] \tLoss: 187.038193\n",
      "Train Epoch: 13  [50000/396710 (13%)] \tLoss: 256.064575\n",
      "Train Epoch: 13  [100000/396710 (25%)] \tLoss: 149.236328\n",
      "Train Epoch: 13  [150000/396710 (38%)] \tLoss: 166.639664\n",
      "Train Epoch: 13  [200000/396710 (50%)] \tLoss: 167.008575\n",
      "Train Epoch: 13  [250000/396710 (63%)] \tLoss: 172.799927\n",
      "Train Epoch: 13  [300000/396710 (76%)] \tLoss: 167.302063\n",
      "Train Epoch: 13  [350000/396710 (88%)] \tLoss: 284.488342\n",
      "\n",
      "Test set: Average loss: 321.2508\n",
      "Train Epoch: 14  [0/396710 (0%)] \tLoss: 88.361450\n",
      "Train Epoch: 14  [50000/396710 (13%)] \tLoss: 466.166016\n",
      "Train Epoch: 14  [100000/396710 (25%)] \tLoss: 167.504700\n",
      "Train Epoch: 14  [150000/396710 (38%)] \tLoss: 365.407776\n",
      "Train Epoch: 14  [200000/396710 (50%)] \tLoss: 69.567375\n",
      "Train Epoch: 14  [250000/396710 (63%)] \tLoss: 746.181519\n",
      "Train Epoch: 14  [300000/396710 (76%)] \tLoss: 82.148239\n",
      "Train Epoch: 14  [350000/396710 (88%)] \tLoss: 78.936157\n",
      "\n",
      "Test set: Average loss: 87.8519\n",
      "Train Epoch: 15  [0/396710 (0%)] \tLoss: 124.756897\n",
      "Train Epoch: 15  [50000/396710 (13%)] \tLoss: 302.734283\n",
      "Train Epoch: 15  [100000/396710 (25%)] \tLoss: 97.684319\n",
      "Train Epoch: 15  [150000/396710 (38%)] \tLoss: 83.825005\n",
      "Train Epoch: 15  [200000/396710 (50%)] \tLoss: 167.316452\n",
      "Train Epoch: 15  [250000/396710 (63%)] \tLoss: 101.241539\n",
      "Train Epoch: 15  [300000/396710 (76%)] \tLoss: 90.473633\n",
      "Train Epoch: 15  [350000/396710 (88%)] \tLoss: 58.920025\n",
      "\n",
      "Test set: Average loss: 74.8733\n",
      "Train Epoch: 16  [0/396710 (0%)] \tLoss: 52.479870\n",
      "Train Epoch: 16  [50000/396710 (13%)] \tLoss: 58.800159\n",
      "Train Epoch: 16  [100000/396710 (25%)] \tLoss: 74.301422\n",
      "Train Epoch: 16  [150000/396710 (38%)] \tLoss: 111.942902\n",
      "Train Epoch: 16  [200000/396710 (50%)] \tLoss: 45.997726\n",
      "Train Epoch: 16  [250000/396710 (63%)] \tLoss: 53.116920\n",
      "Train Epoch: 16  [300000/396710 (76%)] \tLoss: 50.459473\n",
      "Train Epoch: 16  [350000/396710 (88%)] \tLoss: 48.985519\n",
      "\n",
      "Test set: Average loss: 60.0888\n",
      "Train Epoch: 17  [0/396710 (0%)] \tLoss: 49.953297\n",
      "Train Epoch: 17  [50000/396710 (13%)] \tLoss: 70.257179\n",
      "Train Epoch: 17  [100000/396710 (25%)] \tLoss: 82.332207\n",
      "Train Epoch: 17  [150000/396710 (38%)] \tLoss: 74.718552\n",
      "Train Epoch: 17  [200000/396710 (50%)] \tLoss: 61.040077\n",
      "Train Epoch: 17  [250000/396710 (63%)] \tLoss: 54.785046\n",
      "Train Epoch: 17  [300000/396710 (76%)] \tLoss: 39.362244\n",
      "Train Epoch: 17  [350000/396710 (88%)] \tLoss: 91.856941\n",
      "\n",
      "Test set: Average loss: 53.4608\n",
      "Train Epoch: 18  [0/396710 (0%)] \tLoss: 50.222221\n",
      "Train Epoch: 18  [50000/396710 (13%)] \tLoss: 42.446594\n",
      "Train Epoch: 18  [100000/396710 (25%)] \tLoss: 37.911381\n",
      "Train Epoch: 18  [150000/396710 (38%)] \tLoss: 41.805641\n",
      "Train Epoch: 18  [200000/396710 (50%)] \tLoss: 44.863342\n",
      "Train Epoch: 18  [250000/396710 (63%)] \tLoss: 75.281303\n",
      "Train Epoch: 18  [300000/396710 (76%)] \tLoss: 56.703369\n",
      "Train Epoch: 18  [350000/396710 (88%)] \tLoss: 37.094284\n",
      "\n",
      "Test set: Average loss: 43.2741\n",
      "Train Epoch: 19  [0/396710 (0%)] \tLoss: 42.323429\n",
      "Train Epoch: 19  [50000/396710 (13%)] \tLoss: 52.878307\n",
      "Train Epoch: 19  [100000/396710 (25%)] \tLoss: 29.440290\n",
      "Train Epoch: 19  [150000/396710 (38%)] \tLoss: 49.558239\n",
      "Train Epoch: 19  [200000/396710 (50%)] \tLoss: 68.523796\n",
      "Train Epoch: 19  [250000/396710 (63%)] \tLoss: 42.169216\n",
      "Train Epoch: 19  [300000/396710 (76%)] \tLoss: 376.562378\n",
      "Train Epoch: 19  [350000/396710 (88%)] \tLoss: 27.067221\n",
      "\n",
      "Test set: Average loss: 70.3923\n",
      "Train Epoch: 20  [0/396710 (0%)] \tLoss: 44.757782\n",
      "Train Epoch: 20  [50000/396710 (13%)] \tLoss: 31.991249\n",
      "Train Epoch: 20  [100000/396710 (25%)] \tLoss: 91.139908\n",
      "Train Epoch: 20  [150000/396710 (38%)] \tLoss: 41.095963\n",
      "Train Epoch: 20  [200000/396710 (50%)] \tLoss: 29.053419\n",
      "Train Epoch: 20  [250000/396710 (63%)] \tLoss: 51.692665\n",
      "Train Epoch: 20  [300000/396710 (76%)] \tLoss: 33.911274\n",
      "Train Epoch: 20  [350000/396710 (88%)] \tLoss: 27.541470\n",
      "\n",
      "Test set: Average loss: 44.0593\n",
      "Train Epoch: 21  [0/396710 (0%)] \tLoss: 38.249954\n",
      "Train Epoch: 21  [50000/396710 (13%)] \tLoss: 30.506714\n",
      "Train Epoch: 21  [100000/396710 (25%)] \tLoss: 40.620098\n",
      "Train Epoch: 21  [150000/396710 (38%)] \tLoss: 31.548929\n",
      "Train Epoch: 21  [200000/396710 (50%)] \tLoss: 32.185707\n",
      "Train Epoch: 21  [250000/396710 (63%)] \tLoss: 26.503294\n",
      "Train Epoch: 21  [300000/396710 (76%)] \tLoss: 25.385349\n",
      "Train Epoch: 21  [350000/396710 (88%)] \tLoss: 48.931133\n",
      "\n",
      "Test set: Average loss: 29.8037\n",
      "Train Epoch: 22  [0/396710 (0%)] \tLoss: 36.588684\n",
      "Train Epoch: 22  [50000/396710 (13%)] \tLoss: 21.629784\n",
      "Train Epoch: 22  [100000/396710 (25%)] \tLoss: 55.028389\n",
      "Train Epoch: 22  [150000/396710 (38%)] \tLoss: 61.197384\n",
      "Train Epoch: 22  [200000/396710 (50%)] \tLoss: 29.561941\n",
      "Train Epoch: 22  [250000/396710 (63%)] \tLoss: 54.899448\n",
      "Train Epoch: 22  [300000/396710 (76%)] \tLoss: 38.803837\n",
      "Train Epoch: 22  [350000/396710 (88%)] \tLoss: 27.336018\n",
      "\n",
      "Test set: Average loss: 55.0115\n",
      "Train Epoch: 23  [0/396710 (0%)] \tLoss: 20.550079\n",
      "Train Epoch: 23  [50000/396710 (13%)] \tLoss: 31.851631\n",
      "Train Epoch: 23  [100000/396710 (25%)] \tLoss: 24.359613\n",
      "Train Epoch: 23  [150000/396710 (38%)] \tLoss: 71.333656\n",
      "Train Epoch: 23  [200000/396710 (50%)] \tLoss: 28.852234\n",
      "Train Epoch: 23  [250000/396710 (63%)] \tLoss: 381.160278\n",
      "Train Epoch: 23  [300000/396710 (76%)] \tLoss: 796.992737\n",
      "Train Epoch: 23  [350000/396710 (88%)] \tLoss: 23.606209\n",
      "\n",
      "Test set: Average loss: 19.0418\n",
      "Train Epoch: 24  [0/396710 (0%)] \tLoss: 16.332502\n",
      "Train Epoch: 24  [50000/396710 (13%)] \tLoss: 18.541309\n",
      "Train Epoch: 24  [100000/396710 (25%)] \tLoss: 15.167475\n",
      "Train Epoch: 24  [150000/396710 (38%)] \tLoss: 15.307533\n",
      "Train Epoch: 24  [200000/396710 (50%)] \tLoss: 15.334432\n",
      "Train Epoch: 24  [250000/396710 (63%)] \tLoss: 14.442897\n",
      "Train Epoch: 24  [300000/396710 (76%)] \tLoss: 14.911839\n",
      "Train Epoch: 24  [350000/396710 (88%)] \tLoss: 14.754880\n",
      "\n",
      "Test set: Average loss: 16.4582\n",
      "Train Epoch: 25  [0/396710 (0%)] \tLoss: 14.967645\n",
      "Train Epoch: 25  [50000/396710 (13%)] \tLoss: 14.020060\n",
      "Train Epoch: 25  [100000/396710 (25%)] \tLoss: 13.591306\n",
      "Train Epoch: 25  [150000/396710 (38%)] \tLoss: 15.280210\n",
      "Train Epoch: 25  [200000/396710 (50%)] \tLoss: 19.812958\n",
      "Train Epoch: 25  [250000/396710 (63%)] \tLoss: 12.855534\n",
      "Train Epoch: 25  [300000/396710 (76%)] \tLoss: 13.641471\n",
      "Train Epoch: 25  [350000/396710 (88%)] \tLoss: 12.962001\n",
      "\n",
      "Test set: Average loss: 14.5721\n",
      "Train Epoch: 26  [0/396710 (0%)] \tLoss: 14.485388\n",
      "Train Epoch: 26  [50000/396710 (13%)] \tLoss: 14.563530\n",
      "Train Epoch: 26  [100000/396710 (25%)] \tLoss: 12.026430\n",
      "Train Epoch: 26  [150000/396710 (38%)] \tLoss: 13.420085\n",
      "Train Epoch: 26  [200000/396710 (50%)] \tLoss: 12.039592\n",
      "Train Epoch: 26  [250000/396710 (63%)] \tLoss: 12.291721\n",
      "Train Epoch: 26  [300000/396710 (76%)] \tLoss: 11.758553\n",
      "Train Epoch: 26  [350000/396710 (88%)] \tLoss: 12.172041\n",
      "\n",
      "Test set: Average loss: 12.7140\n",
      "Train Epoch: 27  [0/396710 (0%)] \tLoss: 10.923229\n",
      "Train Epoch: 27  [50000/396710 (13%)] \tLoss: 10.313929\n",
      "Train Epoch: 27  [100000/396710 (25%)] \tLoss: 10.405920\n",
      "Train Epoch: 27  [150000/396710 (38%)] \tLoss: 13.210197\n",
      "Train Epoch: 27  [200000/396710 (50%)] \tLoss: 9.794800\n",
      "Train Epoch: 27  [250000/396710 (63%)] \tLoss: 11.600167\n",
      "Train Epoch: 27  [300000/396710 (76%)] \tLoss: 13.317088\n",
      "Train Epoch: 27  [350000/396710 (88%)] \tLoss: 10.104394\n",
      "\n",
      "Test set: Average loss: 10.9010\n",
      "Train Epoch: 28  [0/396710 (0%)] \tLoss: 11.451962\n",
      "Train Epoch: 28  [50000/396710 (13%)] \tLoss: 8.964609\n",
      "Train Epoch: 28  [100000/396710 (25%)] \tLoss: 8.858067\n",
      "Train Epoch: 28  [150000/396710 (38%)] \tLoss: 8.291368\n",
      "Train Epoch: 28  [200000/396710 (50%)] \tLoss: 8.554131\n",
      "Train Epoch: 28  [250000/396710 (63%)] \tLoss: 8.357619\n",
      "Train Epoch: 28  [300000/396710 (76%)] \tLoss: 8.599343\n",
      "Train Epoch: 28  [350000/396710 (88%)] \tLoss: 8.458627\n",
      "\n",
      "Test set: Average loss: 9.2290\n",
      "Train Epoch: 29  [0/396710 (0%)] \tLoss: 9.314555\n",
      "Train Epoch: 29  [50000/396710 (13%)] \tLoss: 8.857432\n",
      "Train Epoch: 29  [100000/396710 (25%)] \tLoss: 8.136274\n",
      "Train Epoch: 29  [150000/396710 (38%)] \tLoss: 8.684844\n",
      "Train Epoch: 29  [200000/396710 (50%)] \tLoss: 14.263709\n",
      "Train Epoch: 29  [250000/396710 (63%)] \tLoss: 8.211131\n",
      "Train Epoch: 29  [300000/396710 (76%)] \tLoss: 7.299151\n",
      "Train Epoch: 29  [350000/396710 (88%)] \tLoss: 8.431540\n",
      "\n",
      "Test set: Average loss: 7.7043\n",
      "Train Epoch: 30  [0/396710 (0%)] \tLoss: 6.859823\n",
      "Train Epoch: 30  [50000/396710 (13%)] \tLoss: 6.113349\n",
      "Train Epoch: 30  [100000/396710 (25%)] \tLoss: 5.901869\n",
      "Train Epoch: 30  [150000/396710 (38%)] \tLoss: 7.223890\n",
      "Train Epoch: 30  [200000/396710 (50%)] \tLoss: 5.454388\n",
      "Train Epoch: 30  [250000/396710 (63%)] \tLoss: 6.250513\n",
      "Train Epoch: 30  [300000/396710 (76%)] \tLoss: 6.162818\n",
      "Train Epoch: 30  [350000/396710 (88%)] \tLoss: 6.129930\n",
      "\n",
      "Test set: Average loss: 21.1973\n"
     ]
    },
    {
     "data": {
      "text/plain": [
       "218.70106101036072"
      ]
     },
     "execution_count": 18,
     "metadata": {},
     "output_type": "execute_result"
    }
   ],
   "source": [
    "import time\n",
    "\n",
    "start = time.time()\n",
    "for epoch in range(1, 30 + 1):\n",
    "    train(model, device, train_loader, optimizer, epoch)\n",
    "    test(model, device, test_loader)\n",
    "    scheduler.step()\n",
    "end = time.time()\n",
    "end - start"
   ]
  },
  {
   "cell_type": "code",
   "execution_count": 20,
   "id": "79ffef15-62aa-4fdb-9617-287055483fe3",
   "metadata": {},
   "outputs": [],
   "source": [
    "torch.save(model.state_dict(), 'LinearFF.pth')"
   ]
  },
  {
   "cell_type": "code",
   "execution_count": 22,
   "id": "bec9b7a9-006c-4aa6-b7db-67fa53779321",
   "metadata": {
    "tags": []
   },
   "outputs": [],
   "source": [
    "# losses_train = [x.cpu() for x in losses_train]\n",
    "test_losses = [x.cpu() for x in test_losses]"
   ]
  },
  {
   "cell_type": "code",
   "execution_count": 23,
   "id": "02aeb654-ae93-49a6-ab4d-aa5d222514dd",
   "metadata": {},
   "outputs": [
    {
     "data": {
      "image/png": "[encoded data removed]",
      "text/plain": [
       "<Figure size 720x360 with 1 Axes>"
      ]
     },
     "metadata": {
      "needs_background": "light"
     },
     "output_type": "display_data"
    }
   ],
   "source": [
    "#loss graph\n",
    "plt.figure(figsize=(10,5))\n",
    "plt.title(\"Train and Test Set Loss Graph\")\n",
    "#plt.plot(test_losses,label=\"test\", color='skyblue')\n",
    "plt.plot(train_losses,label=\"train\", color='pink')\n",
    "plt.xticks(np.arange(len(test_losses)), np.arange(1, len(test_losses)+1))\n",
    "plt.xlabel(\"iterations\")\n",
    "plt.ylabel(\"Loss\")\n",
    "plt.legend()\n",
    "plt.show()"
   ]
  },
  {
   "cell_type": "code",
   "execution_count": 24,
   "id": "a13289c6-8531-4f4c-9b85-11c2b3c3c625",
   "metadata": {},
   "outputs": [
    {
     "data": {
      "image/png": "[encoded data removed]",
      "text/plain": [
       "<Figure size 720x360 with 1 Axes>"
      ]
     },
     "metadata": {
      "needs_background": "light"
     },
     "output_type": "display_data"
    }
   ],
   "source": [
    "#loss graph\n",
    "plt.figure(figsize=(10,5))\n",
    "plt.title(\"Train and Test Set Loss Graph\")\n",
    "plt.plot(test_losses,label=\"test\", color='skyblue')\n",
    "#plt.plot(train_losses,label=\"train\", color='pink')\n",
    "plt.xticks(np.arange(len(test_losses)), np.arange(1, len(test_losses)+1))\n",
    "plt.xlabel(\"iterations\")\n",
    "plt.ylabel(\"Loss\")\n",
    "plt.legend()\n",
    "plt.show()"
   ]
  },
  {
   "cell_type": "code",
   "execution_count": 18,
   "id": "db1e22b2-261d-4c36-b824-ae5dc118bf9d",
   "metadata": {},
   "outputs": [
    {
     "data": {
      "text/plain": [
       "feedforward(\n",
       "  (fc1): Linear(in_features=332, out_features=256, bias=True)\n",
       "  (fc2): Linear(in_features=256, out_features=64, bias=True)\n",
       "  (fc3): Linear(in_features=64, out_features=1, bias=True)\n",
       "  (dropout): Dropout(p=0.1, inplace=False)\n",
       "  (relu): ReLU()\n",
       "  (batchnorm1): BatchNorm1d(256, eps=1e-05, momentum=0.1, affine=True, track_running_stats=True)\n",
       "  (batchnorm2): BatchNorm1d(64, eps=1e-05, momentum=0.1, affine=True, track_running_stats=True)\n",
       ")"
      ]
     },
     "execution_count": 18,
     "metadata": {},
     "output_type": "execute_result"
    }
   ],
   "source": [
    "model = feedforward(inputSize, hidden1, hidden2, outputSize) # we do not specify pretrained=True, i.e. do not load default weights\n",
    "model.load_state_dict(torch.load('batchNormFF.pth'))\n",
    "model.eval()"
   ]
  },
  {
   "cell_type": "code",
   "execution_count": 25,
   "id": "14a5c82d-5b68-44cc-a03b-99dc11177a28",
   "metadata": {},
   "outputs": [],
   "source": [
    "pred_train = model(tensor_x_train.cuda())\n",
    "pred_test = model(tensor_x_test.cuda())"
   ]
  },
  {
   "cell_type": "code",
   "execution_count": 26,
   "id": "db1a2aaa-7c74-480f-a771-b01f5602686f",
   "metadata": {},
   "outputs": [],
   "source": [
    "pred_train = pred_train.cpu()\n",
    "pred_test = pred_test.cpu()"
   ]
  },
  {
   "cell_type": "code",
   "execution_count": 27,
   "id": "69cc4209-eebe-4107-a78d-b14593594fc1",
   "metadata": {},
   "outputs": [],
   "source": [
    "pred_train = pred_train.detach().numpy()\n",
    "pred_test = pred_test.detach().numpy()"
   ]
  },
  {
   "cell_type": "code",
   "execution_count": 28,
   "id": "ad32722f-3861-436b-b2c1-ccadb10eb94f",
   "metadata": {},
   "outputs": [],
   "source": [
    "pred_train = pd.DataFrame(pred_train, columns = ['pred_train'])\n",
    "pred_test = pd.DataFrame(pred_test, columns = ['pred_test'])"
   ]
  },
  {
   "cell_type": "code",
   "execution_count": 29,
   "id": "b80457ca-f54a-4936-aefb-d67887b868bc",
   "metadata": {},
   "outputs": [],
   "source": [
    "train = pd.read_csv('/home/shared/irisk_bop/data_1022/individual_coverage_modeling/Liability/train_LIAB.csv', index_col = False, low_memory=False)\n",
    "test = pd.read_csv('/home/shared/irisk_bop/data_1022/individual_coverage_modeling/Liability/test_LIAB.csv', index_col = False, low_memory=False)\n"
   ]
  },
  {
   "cell_type": "code",
   "execution_count": 30,
   "id": "ef9d0e72-0581-4141-a6a4-039b0c1e9f4e",
   "metadata": {},
   "outputs": [],
   "source": [
    "test['log_ratio_residual'] = [np.log(a_i / b_i) for a_i, b_i in zip((test['Y_raw'] + 1), test['Y_raw_country_adj'])]\n",
    "test = test.loc[test['log_ratio_residual'].notnull(), ]"
   ]
  },
  {
   "cell_type": "code",
   "execution_count": 31,
   "id": "2b1025f2-feda-49be-bc69-6cf3640bb760",
   "metadata": {},
   "outputs": [],
   "source": [
    "train_pred_df = pd.concat([train[[\"Rec_ID\", \"Y_raw_country_adj\", \"Y_raw\"]], pred_train], ignore_index = True, axis = 1)\\\n",
    ".rename(columns = {0: \"Rec_ID\", 1 : 'Y_raw_country_adj', 2: 'Y_raw', 3: 'pred_train'}).reset_index(drop = True)"
   ]
  },
  {
   "cell_type": "code",
   "execution_count": 32,
   "id": "44099b46-1a2d-461d-9d48-28ee7824b846",
   "metadata": {},
   "outputs": [],
   "source": [
    "\n",
    "test_pred_df = pd.concat([test[[\"Rec_ID\", \"Y_raw_country_adj\", \"Y_raw\"]].reset_index(drop = True), pred_test], ignore_index = True, axis = 1)\\\n",
    ".rename(columns = {0: \"Rec_ID\", 1 : 'Y_raw_country_adj', 2: 'Y_raw', 3: 'pred_test'}).reset_index(drop = True)"
   ]
  },
  {
   "cell_type": "code",
   "execution_count": 33,
   "id": "e4e341f4-d399-4443-a8fc-4ef941adedba",
   "metadata": {},
   "outputs": [],
   "source": [
    "train_pred_df['pred_train'] = np.exp(train_pred_df['pred_train']) * train_pred_df['Y_raw_country_adj'] - 1\n",
    "test_pred_df['pred_test'] = np.exp(test_pred_df['pred_test']) * test_pred_df['Y_raw_country_adj'] - 1"
   ]
  },
  {
   "cell_type": "code",
   "execution_count": 34,
   "id": "bbabea79-b33d-4aab-b810-d2c77e013104",
   "metadata": {
    "tags": []
   },
   "outputs": [],
   "source": [
    "import random\n",
    "def giniTest(y, py):\n",
    "    data = pd.DataFrame({\"y\":y, \"py\":py})\n",
    "    random.seed(1)\n",
    "    n = len(y)\n",
    "    data['rand_unif'] = np.random.uniform(0.0, 1.0, size = len(y))\n",
    "    sorted_y = data.iloc[np.argsort(data.py, data.rand_unif), 0]\n",
    "    i = np.array(range(1, n+1))\n",
    "    giniIndex = 1-2/(n-1)*(n-sum(sorted_y*i)/sum(sorted_y))\n",
    "    return giniIndex\n",
    "\n",
    "def me(y, py):\n",
    "    ME = None\n",
    "    ME = sum(y-py)/len(y)\n",
    "    return ME\n",
    "\n",
    "def mae(y, py):\n",
    "    MAE = None\n",
    "    MAE = sum(abs(y-py))/len(y)\n",
    "    return MAE\n",
    "\n",
    "def mse(y, py):\n",
    "    MSE = None\n",
    "    MSE = sum((y-py)**2)/len(y)\n",
    "    return MSE\n",
    "\n",
    "def rmse(y, py):\n",
    "    RMSE = None\n",
    "    RMSE = (sum((y-py)**2)/len(y))**0.5\n",
    "    return RMSE\n",
    "\n",
    "def pe(y, py):\n",
    "    PE = None\n",
    "    PE = (sum(y)-sum(py))/sum(y)\n",
    "    return PE\n",
    "\n",
    "def ccc(y, py):\n",
    "    CCC = None\n",
    "    CCC = 2*np.corrcoef(py, y)[0,1]*np.std(y, ddof = 1)*np.std(py, ddof = 1)/(np.var(y, ddof = 1)+np.var(py, ddof = 1)+(sum(y)/len(y)-sum(py)/len(py))**2)\n",
    "    return CCC\n",
    "\n",
    "def r2(y, py):\n",
    "    r2 = None\n",
    "    r2 = 1- sum((py-y)**2)/sum((y-np.mean(y))**2)\n",
    "    return r2\n",
    "\n",
    "def PredictionError(y, py):\n",
    "    pre = [giniTest(y,py), r2(y,py), ccc(y,py), mse(y, py), rmse(y, py), me(y,py), pe(y,py), mae(y,py)]\n",
    "    rounding = [round(i, 2) for i in pre]\n",
    "    return rounding"
   ]
  }
 ],
 "metadata": {
  "kernelspec": {
   "display_name": "Python [conda env:opence-v1.3.1]",
   "language": "python",
   "name": "conda-env-opence-v1.3.1-py"
  },
  "language_info": {
   "codemirror_mode": {
    "name": "ipython",
    "version": 3
   },
   "file_extension": ".py",
   "mimetype": "text/x-python",
   "name": "python",
   "nbconvert_exporter": "python",
   "pygments_lexer": "ipython3",
   "version": "3.8.0"
  }
 },
 "nbformat": 4,
 "nbformat_minor": 5
}
